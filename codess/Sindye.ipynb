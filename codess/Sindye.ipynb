{
 "cells": [
  {
   "cell_type": "markdown",
   "metadata": {},
   "source": [
    "https://www.kaggle.com/leowanty/tuto-3-mod-lisation-avec-scikit-learn"
   ]
  },
  {
   "cell_type": "code",
   "execution_count": 53,
   "metadata": {},
   "outputs": [],
   "source": [
    "import pandas as pd\n",
    "import seaborn as sns\n",
    "import matplotlib.pyplot as plt\n",
    "import numpy as np\n",
    "\n",
    "# Comment this if the data visualisations doesn't work on your side\n",
    "%matplotlib inline\n",
    "\n",
    "plt.style.use('bmh')"
   ]
  },
  {
   "cell_type": "code",
   "execution_count": 6,
   "metadata": {},
   "outputs": [],
   "source": [
    "data = pd.read_csv(\"./sidney/data.csv\")"
   ]
  },
  {
   "cell_type": "code",
   "execution_count": 7,
   "metadata": {},
   "outputs": [
    {
     "data": {
      "text/plain": [
       "(4600, 18)"
      ]
     },
     "execution_count": 7,
     "metadata": {},
     "output_type": "execute_result"
    }
   ],
   "source": [
    "data.shape"
   ]
  },
  {
   "cell_type": "code",
   "execution_count": 10,
   "metadata": {},
   "outputs": [
    {
     "name": "stdout",
     "output_type": "stream",
     "text": [
      "<class 'pandas.core.frame.DataFrame'>\n",
      "RangeIndex: 4600 entries, 0 to 4599\n",
      "Data columns (total 18 columns):\n",
      " #   Column         Non-Null Count  Dtype  \n",
      "---  ------         --------------  -----  \n",
      " 0   date           4600 non-null   object \n",
      " 1   price          4600 non-null   float64\n",
      " 2   bedrooms       4600 non-null   float64\n",
      " 3   bathrooms      4600 non-null   float64\n",
      " 4   sqft_living    4600 non-null   int64  \n",
      " 5   sqft_lot       4600 non-null   int64  \n",
      " 6   floors         4600 non-null   float64\n",
      " 7   waterfront     4600 non-null   int64  \n",
      " 8   view           4600 non-null   int64  \n",
      " 9   condition      4600 non-null   int64  \n",
      " 10  sqft_above     4600 non-null   int64  \n",
      " 11  sqft_basement  4600 non-null   int64  \n",
      " 12  yr_built       4600 non-null   int64  \n",
      " 13  yr_renovated   4600 non-null   int64  \n",
      " 14  street         4600 non-null   object \n",
      " 15  city           4600 non-null   object \n",
      " 16  statezip       4600 non-null   object \n",
      " 17  country        4600 non-null   object \n",
      "dtypes: float64(4), int64(9), object(5)\n",
      "memory usage: 647.0+ KB\n"
     ]
    }
   ],
   "source": [
    "data.info()"
   ]
  },
  {
   "cell_type": "markdown",
   "metadata": {},
   "source": [
    "On voit la variable \"date\" n'a pas un type de \"date\" --> A CHANGER"
   ]
  },
  {
   "cell_type": "code",
   "execution_count": 45,
   "metadata": {},
   "outputs": [],
   "source": [
    "data['date'] = pd.to_datetime(data['date'], format=\"%Y-%m-%d %H:%M:%S\")"
   ]
  },
  {
   "cell_type": "code",
   "execution_count": 51,
   "metadata": {},
   "outputs": [
    {
     "data": {
      "text/plain": [
       "5"
      ]
     },
     "execution_count": 51,
     "metadata": {},
     "output_type": "execute_result"
    }
   ],
   "source": [
    "data['date'][0].month"
   ]
  },
  {
   "cell_type": "code",
   "execution_count": 11,
   "metadata": {},
   "outputs": [
    {
     "data": {
      "text/html": [
       "<div>\n",
       "<style scoped>\n",
       "    .dataframe tbody tr th:only-of-type {\n",
       "        vertical-align: middle;\n",
       "    }\n",
       "\n",
       "    .dataframe tbody tr th {\n",
       "        vertical-align: top;\n",
       "    }\n",
       "\n",
       "    .dataframe thead th {\n",
       "        text-align: right;\n",
       "    }\n",
       "</style>\n",
       "<table border=\"1\" class=\"dataframe\">\n",
       "  <thead>\n",
       "    <tr style=\"text-align: right;\">\n",
       "      <th></th>\n",
       "      <th>date</th>\n",
       "      <th>price</th>\n",
       "      <th>bedrooms</th>\n",
       "      <th>bathrooms</th>\n",
       "      <th>sqft_living</th>\n",
       "      <th>sqft_lot</th>\n",
       "      <th>floors</th>\n",
       "      <th>waterfront</th>\n",
       "      <th>view</th>\n",
       "      <th>condition</th>\n",
       "      <th>sqft_above</th>\n",
       "      <th>sqft_basement</th>\n",
       "      <th>yr_built</th>\n",
       "      <th>yr_renovated</th>\n",
       "      <th>street</th>\n",
       "      <th>city</th>\n",
       "      <th>statezip</th>\n",
       "      <th>country</th>\n",
       "    </tr>\n",
       "  </thead>\n",
       "  <tbody>\n",
       "    <tr>\n",
       "      <th>0</th>\n",
       "      <td>2014-05-02 00:00:00</td>\n",
       "      <td>313000.0</td>\n",
       "      <td>3.0</td>\n",
       "      <td>1.50</td>\n",
       "      <td>1340</td>\n",
       "      <td>7912</td>\n",
       "      <td>1.5</td>\n",
       "      <td>0</td>\n",
       "      <td>0</td>\n",
       "      <td>3</td>\n",
       "      <td>1340</td>\n",
       "      <td>0</td>\n",
       "      <td>1955</td>\n",
       "      <td>2005</td>\n",
       "      <td>18810 Densmore Ave N</td>\n",
       "      <td>Shoreline</td>\n",
       "      <td>WA 98133</td>\n",
       "      <td>USA</td>\n",
       "    </tr>\n",
       "    <tr>\n",
       "      <th>1</th>\n",
       "      <td>2014-05-02 00:00:00</td>\n",
       "      <td>2384000.0</td>\n",
       "      <td>5.0</td>\n",
       "      <td>2.50</td>\n",
       "      <td>3650</td>\n",
       "      <td>9050</td>\n",
       "      <td>2.0</td>\n",
       "      <td>0</td>\n",
       "      <td>4</td>\n",
       "      <td>5</td>\n",
       "      <td>3370</td>\n",
       "      <td>280</td>\n",
       "      <td>1921</td>\n",
       "      <td>0</td>\n",
       "      <td>709 W Blaine St</td>\n",
       "      <td>Seattle</td>\n",
       "      <td>WA 98119</td>\n",
       "      <td>USA</td>\n",
       "    </tr>\n",
       "    <tr>\n",
       "      <th>2</th>\n",
       "      <td>2014-05-02 00:00:00</td>\n",
       "      <td>342000.0</td>\n",
       "      <td>3.0</td>\n",
       "      <td>2.00</td>\n",
       "      <td>1930</td>\n",
       "      <td>11947</td>\n",
       "      <td>1.0</td>\n",
       "      <td>0</td>\n",
       "      <td>0</td>\n",
       "      <td>4</td>\n",
       "      <td>1930</td>\n",
       "      <td>0</td>\n",
       "      <td>1966</td>\n",
       "      <td>0</td>\n",
       "      <td>26206-26214 143rd Ave SE</td>\n",
       "      <td>Kent</td>\n",
       "      <td>WA 98042</td>\n",
       "      <td>USA</td>\n",
       "    </tr>\n",
       "    <tr>\n",
       "      <th>3</th>\n",
       "      <td>2014-05-02 00:00:00</td>\n",
       "      <td>420000.0</td>\n",
       "      <td>3.0</td>\n",
       "      <td>2.25</td>\n",
       "      <td>2000</td>\n",
       "      <td>8030</td>\n",
       "      <td>1.0</td>\n",
       "      <td>0</td>\n",
       "      <td>0</td>\n",
       "      <td>4</td>\n",
       "      <td>1000</td>\n",
       "      <td>1000</td>\n",
       "      <td>1963</td>\n",
       "      <td>0</td>\n",
       "      <td>857 170th Pl NE</td>\n",
       "      <td>Bellevue</td>\n",
       "      <td>WA 98008</td>\n",
       "      <td>USA</td>\n",
       "    </tr>\n",
       "    <tr>\n",
       "      <th>4</th>\n",
       "      <td>2014-05-02 00:00:00</td>\n",
       "      <td>550000.0</td>\n",
       "      <td>4.0</td>\n",
       "      <td>2.50</td>\n",
       "      <td>1940</td>\n",
       "      <td>10500</td>\n",
       "      <td>1.0</td>\n",
       "      <td>0</td>\n",
       "      <td>0</td>\n",
       "      <td>4</td>\n",
       "      <td>1140</td>\n",
       "      <td>800</td>\n",
       "      <td>1976</td>\n",
       "      <td>1992</td>\n",
       "      <td>9105 170th Ave NE</td>\n",
       "      <td>Redmond</td>\n",
       "      <td>WA 98052</td>\n",
       "      <td>USA</td>\n",
       "    </tr>\n",
       "  </tbody>\n",
       "</table>\n",
       "</div>"
      ],
      "text/plain": [
       "                  date      price  bedrooms  bathrooms  sqft_living  sqft_lot  \\\n",
       "0  2014-05-02 00:00:00   313000.0       3.0       1.50         1340      7912   \n",
       "1  2014-05-02 00:00:00  2384000.0       5.0       2.50         3650      9050   \n",
       "2  2014-05-02 00:00:00   342000.0       3.0       2.00         1930     11947   \n",
       "3  2014-05-02 00:00:00   420000.0       3.0       2.25         2000      8030   \n",
       "4  2014-05-02 00:00:00   550000.0       4.0       2.50         1940     10500   \n",
       "\n",
       "   floors  waterfront  view  condition  sqft_above  sqft_basement  yr_built  \\\n",
       "0     1.5           0     0          3        1340              0      1955   \n",
       "1     2.0           0     4          5        3370            280      1921   \n",
       "2     1.0           0     0          4        1930              0      1966   \n",
       "3     1.0           0     0          4        1000           1000      1963   \n",
       "4     1.0           0     0          4        1140            800      1976   \n",
       "\n",
       "   yr_renovated                    street       city  statezip country  \n",
       "0          2005      18810 Densmore Ave N  Shoreline  WA 98133     USA  \n",
       "1             0           709 W Blaine St    Seattle  WA 98119     USA  \n",
       "2             0  26206-26214 143rd Ave SE       Kent  WA 98042     USA  \n",
       "3             0           857 170th Pl NE   Bellevue  WA 98008     USA  \n",
       "4          1992         9105 170th Ave NE    Redmond  WA 98052     USA  "
      ]
     },
     "execution_count": 11,
     "metadata": {},
     "output_type": "execute_result"
    }
   ],
   "source": [
    "data.head()"
   ]
  },
  {
   "cell_type": "code",
   "execution_count": 12,
   "metadata": {},
   "outputs": [
    {
     "data": {
      "text/html": [
       "<div>\n",
       "<style scoped>\n",
       "    .dataframe tbody tr th:only-of-type {\n",
       "        vertical-align: middle;\n",
       "    }\n",
       "\n",
       "    .dataframe tbody tr th {\n",
       "        vertical-align: top;\n",
       "    }\n",
       "\n",
       "    .dataframe thead th {\n",
       "        text-align: right;\n",
       "    }\n",
       "</style>\n",
       "<table border=\"1\" class=\"dataframe\">\n",
       "  <thead>\n",
       "    <tr style=\"text-align: right;\">\n",
       "      <th></th>\n",
       "      <th>price</th>\n",
       "      <th>bedrooms</th>\n",
       "      <th>bathrooms</th>\n",
       "      <th>sqft_living</th>\n",
       "      <th>sqft_lot</th>\n",
       "      <th>floors</th>\n",
       "      <th>waterfront</th>\n",
       "      <th>view</th>\n",
       "      <th>condition</th>\n",
       "      <th>sqft_above</th>\n",
       "      <th>sqft_basement</th>\n",
       "      <th>yr_built</th>\n",
       "      <th>yr_renovated</th>\n",
       "    </tr>\n",
       "  </thead>\n",
       "  <tbody>\n",
       "    <tr>\n",
       "      <th>count</th>\n",
       "      <td>4.600000e+03</td>\n",
       "      <td>4600.000000</td>\n",
       "      <td>4600.000000</td>\n",
       "      <td>4600.000000</td>\n",
       "      <td>4.600000e+03</td>\n",
       "      <td>4600.000000</td>\n",
       "      <td>4600.000000</td>\n",
       "      <td>4600.000000</td>\n",
       "      <td>4600.000000</td>\n",
       "      <td>4600.000000</td>\n",
       "      <td>4600.000000</td>\n",
       "      <td>4600.000000</td>\n",
       "      <td>4600.000000</td>\n",
       "    </tr>\n",
       "    <tr>\n",
       "      <th>mean</th>\n",
       "      <td>5.519630e+05</td>\n",
       "      <td>3.400870</td>\n",
       "      <td>2.160815</td>\n",
       "      <td>2139.346957</td>\n",
       "      <td>1.485252e+04</td>\n",
       "      <td>1.512065</td>\n",
       "      <td>0.007174</td>\n",
       "      <td>0.240652</td>\n",
       "      <td>3.451739</td>\n",
       "      <td>1827.265435</td>\n",
       "      <td>312.081522</td>\n",
       "      <td>1970.786304</td>\n",
       "      <td>808.608261</td>\n",
       "    </tr>\n",
       "    <tr>\n",
       "      <th>std</th>\n",
       "      <td>5.638347e+05</td>\n",
       "      <td>0.908848</td>\n",
       "      <td>0.783781</td>\n",
       "      <td>963.206916</td>\n",
       "      <td>3.588444e+04</td>\n",
       "      <td>0.538288</td>\n",
       "      <td>0.084404</td>\n",
       "      <td>0.778405</td>\n",
       "      <td>0.677230</td>\n",
       "      <td>862.168977</td>\n",
       "      <td>464.137228</td>\n",
       "      <td>29.731848</td>\n",
       "      <td>979.414536</td>\n",
       "    </tr>\n",
       "    <tr>\n",
       "      <th>min</th>\n",
       "      <td>0.000000e+00</td>\n",
       "      <td>0.000000</td>\n",
       "      <td>0.000000</td>\n",
       "      <td>370.000000</td>\n",
       "      <td>6.380000e+02</td>\n",
       "      <td>1.000000</td>\n",
       "      <td>0.000000</td>\n",
       "      <td>0.000000</td>\n",
       "      <td>1.000000</td>\n",
       "      <td>370.000000</td>\n",
       "      <td>0.000000</td>\n",
       "      <td>1900.000000</td>\n",
       "      <td>0.000000</td>\n",
       "    </tr>\n",
       "    <tr>\n",
       "      <th>25%</th>\n",
       "      <td>3.228750e+05</td>\n",
       "      <td>3.000000</td>\n",
       "      <td>1.750000</td>\n",
       "      <td>1460.000000</td>\n",
       "      <td>5.000750e+03</td>\n",
       "      <td>1.000000</td>\n",
       "      <td>0.000000</td>\n",
       "      <td>0.000000</td>\n",
       "      <td>3.000000</td>\n",
       "      <td>1190.000000</td>\n",
       "      <td>0.000000</td>\n",
       "      <td>1951.000000</td>\n",
       "      <td>0.000000</td>\n",
       "    </tr>\n",
       "    <tr>\n",
       "      <th>50%</th>\n",
       "      <td>4.609435e+05</td>\n",
       "      <td>3.000000</td>\n",
       "      <td>2.250000</td>\n",
       "      <td>1980.000000</td>\n",
       "      <td>7.683000e+03</td>\n",
       "      <td>1.500000</td>\n",
       "      <td>0.000000</td>\n",
       "      <td>0.000000</td>\n",
       "      <td>3.000000</td>\n",
       "      <td>1590.000000</td>\n",
       "      <td>0.000000</td>\n",
       "      <td>1976.000000</td>\n",
       "      <td>0.000000</td>\n",
       "    </tr>\n",
       "    <tr>\n",
       "      <th>75%</th>\n",
       "      <td>6.549625e+05</td>\n",
       "      <td>4.000000</td>\n",
       "      <td>2.500000</td>\n",
       "      <td>2620.000000</td>\n",
       "      <td>1.100125e+04</td>\n",
       "      <td>2.000000</td>\n",
       "      <td>0.000000</td>\n",
       "      <td>0.000000</td>\n",
       "      <td>4.000000</td>\n",
       "      <td>2300.000000</td>\n",
       "      <td>610.000000</td>\n",
       "      <td>1997.000000</td>\n",
       "      <td>1999.000000</td>\n",
       "    </tr>\n",
       "    <tr>\n",
       "      <th>max</th>\n",
       "      <td>2.659000e+07</td>\n",
       "      <td>9.000000</td>\n",
       "      <td>8.000000</td>\n",
       "      <td>13540.000000</td>\n",
       "      <td>1.074218e+06</td>\n",
       "      <td>3.500000</td>\n",
       "      <td>1.000000</td>\n",
       "      <td>4.000000</td>\n",
       "      <td>5.000000</td>\n",
       "      <td>9410.000000</td>\n",
       "      <td>4820.000000</td>\n",
       "      <td>2014.000000</td>\n",
       "      <td>2014.000000</td>\n",
       "    </tr>\n",
       "  </tbody>\n",
       "</table>\n",
       "</div>"
      ],
      "text/plain": [
       "              price     bedrooms    bathrooms   sqft_living      sqft_lot  \\\n",
       "count  4.600000e+03  4600.000000  4600.000000   4600.000000  4.600000e+03   \n",
       "mean   5.519630e+05     3.400870     2.160815   2139.346957  1.485252e+04   \n",
       "std    5.638347e+05     0.908848     0.783781    963.206916  3.588444e+04   \n",
       "min    0.000000e+00     0.000000     0.000000    370.000000  6.380000e+02   \n",
       "25%    3.228750e+05     3.000000     1.750000   1460.000000  5.000750e+03   \n",
       "50%    4.609435e+05     3.000000     2.250000   1980.000000  7.683000e+03   \n",
       "75%    6.549625e+05     4.000000     2.500000   2620.000000  1.100125e+04   \n",
       "max    2.659000e+07     9.000000     8.000000  13540.000000  1.074218e+06   \n",
       "\n",
       "            floors   waterfront         view    condition   sqft_above  \\\n",
       "count  4600.000000  4600.000000  4600.000000  4600.000000  4600.000000   \n",
       "mean      1.512065     0.007174     0.240652     3.451739  1827.265435   \n",
       "std       0.538288     0.084404     0.778405     0.677230   862.168977   \n",
       "min       1.000000     0.000000     0.000000     1.000000   370.000000   \n",
       "25%       1.000000     0.000000     0.000000     3.000000  1190.000000   \n",
       "50%       1.500000     0.000000     0.000000     3.000000  1590.000000   \n",
       "75%       2.000000     0.000000     0.000000     4.000000  2300.000000   \n",
       "max       3.500000     1.000000     4.000000     5.000000  9410.000000   \n",
       "\n",
       "       sqft_basement     yr_built  yr_renovated  \n",
       "count    4600.000000  4600.000000   4600.000000  \n",
       "mean      312.081522  1970.786304    808.608261  \n",
       "std       464.137228    29.731848    979.414536  \n",
       "min         0.000000  1900.000000      0.000000  \n",
       "25%         0.000000  1951.000000      0.000000  \n",
       "50%         0.000000  1976.000000      0.000000  \n",
       "75%       610.000000  1997.000000   1999.000000  \n",
       "max      4820.000000  2014.000000   2014.000000  "
      ]
     },
     "execution_count": 12,
     "metadata": {},
     "output_type": "execute_result"
    }
   ],
   "source": [
    "data.describe()"
   ]
  },
  {
   "cell_type": "code",
   "execution_count": 15,
   "metadata": {},
   "outputs": [
    {
     "data": {
      "text/plain": [
       "49"
      ]
     },
     "execution_count": 15,
     "metadata": {},
     "output_type": "execute_result"
    }
   ],
   "source": [
    "data['price'][data[\"price\"] == 0].count()"
   ]
  },
  {
   "cell_type": "code",
   "execution_count": null,
   "metadata": {},
   "outputs": [],
   "source": [
    "Il y a 49 maisons vendues pour 0\n",
    "On les supprime"
   ]
  },
  {
   "cell_type": "code",
   "execution_count": 18,
   "metadata": {},
   "outputs": [],
   "source": [
    "data = data[data['price']>0]"
   ]
  },
  {
   "cell_type": "code",
   "execution_count": 19,
   "metadata": {},
   "outputs": [
    {
     "name": "stdout",
     "output_type": "stream",
     "text": [
      "Nombre de valeurs pour les 10 villes contenant le plus de valeurs :\n"
     ]
    },
    {
     "data": {
      "text/plain": [
       "Seattle        1561\n",
       "Renton          291\n",
       "Bellevue        281\n",
       "Redmond         235\n",
       "Kirkland        187\n",
       "Issaquah        186\n",
       "Kent            184\n",
       "Auburn          175\n",
       "Sammamish       171\n",
       "Federal Way     145\n",
       "Name: city, dtype: int64"
      ]
     },
     "execution_count": 19,
     "metadata": {},
     "output_type": "execute_result"
    }
   ],
   "source": [
    "# Pour les colonnes qualitatives: \n",
    "print(\"Nombre de valeurs pour les 10 villes contenant le plus de valeurs :\")\n",
    "data.city.value_counts().head(10)"
   ]
  },
  {
   "cell_type": "code",
   "execution_count": 52,
   "metadata": {},
   "outputs": [
    {
     "data": {
      "text/plain": [
       "0       3.130000e+05\n",
       "1       2.384000e+06\n",
       "2       3.420000e+05\n",
       "3       4.200000e+05\n",
       "4       5.500000e+05\n",
       "            ...     \n",
       "4595    3.081667e+05\n",
       "4596    5.343333e+05\n",
       "4597    4.169042e+05\n",
       "4598    2.034000e+05\n",
       "4599    2.206000e+05\n",
       "Name: price, Length: 4551, dtype: float64"
      ]
     },
     "execution_count": 52,
     "metadata": {},
     "output_type": "execute_result"
    }
   ],
   "source": [
    "data['price']"
   ]
  },
  {
   "cell_type": "code",
   "execution_count": null,
   "metadata": {},
   "outputs": [],
   "source": [
    "SUPPRESSION OUTLIERS"
   ]
  },
  {
   "cell_type": "code",
   "execution_count": 59,
   "metadata": {},
   "outputs": [
    {
     "data": {
      "text/plain": [
       "<matplotlib.axes._subplots.AxesSubplot at 0x7faa2955ebd0>"
      ]
     },
     "execution_count": 59,
     "metadata": {},
     "output_type": "execute_result"
    },
    {
     "data": {
      "image/png": "[encoded data removed]",
      "text/plain": [
       "<Figure size 1152x864 with 1 Axes>"
      ]
     },
     "metadata": {
      "needs_background": "light"
     },
     "output_type": "display_data"
    }
   ],
   "source": [
    "plt.figure(figsize=(16,12))\n",
    "sns.distplot(data['price'], color='g', bins=100, hist_kws={'alpha': 0.4})"
   ]
  },
  {
   "cell_type": "code",
   "execution_count": 60,
   "metadata": {},
   "outputs": [
    {
     "data": {
      "text/plain": [
       "<matplotlib.axes._subplots.AxesSubplot at 0x7faa293a2250>"
      ]
     },
     "execution_count": 60,
     "metadata": {},
     "output_type": "execute_result"
    },
    {
     "data": {
      "image/png": "[encoded data removed]",
      "text/plain": [
       "<Figure size 432x288 with 1 Axes>"
      ]
     },
     "metadata": {
      "needs_background": "light"
     },
     "output_type": "display_data"
    }
   ],
   "source": [
    "sns.boxplot(x=data['price'])"
   ]
  },
  {
   "cell_type": "markdown",
   "metadata": {},
   "source": [
    "The Z-score is the signed number of standard deviations by which the value of an observation or data point is above the mean value of what is being observed or measured.\n"
   ]
  },
  {
   "cell_type": "code",
   "execution_count": 62,
   "metadata": {},
   "outputs": [
    {
     "name": "stdout",
     "output_type": "stream",
     "text": [
      "[0.43433204 3.23851396 0.38290155 ... 0.25006164 0.6287038  0.5982002 ]\n"
     ]
    }
   ],
   "source": [
    "from scipy import stats\n",
    "z = np.abs(stats.zscore(data['price']))\n",
    "print(z)"
   ]
  },
  {
   "cell_type": "code",
   "execution_count": 67,
   "metadata": {},
   "outputs": [
    {
     "data": {
      "text/plain": [
       "4551"
      ]
     },
     "execution_count": 67,
     "metadata": {},
     "output_type": "execute_result"
    }
   ],
   "source": [
    "len(z)"
   ]
  },
  {
   "cell_type": "code",
   "execution_count": 68,
   "metadata": {},
   "outputs": [],
   "source": [
    "data_o = data[(z<3)]"
   ]
  },
  {
   "cell_type": "code",
   "execution_count": 70,
   "metadata": {},
   "outputs": [
    {
     "data": {
      "text/plain": [
       "4517"
      ]
     },
     "execution_count": 70,
     "metadata": {},
     "output_type": "execute_result"
    }
   ],
   "source": [
    "len(data_o)"
   ]
  },
  {
   "cell_type": "markdown",
   "metadata": {},
   "source": [
    "On passe au log et ça passe \n",
    "\n",
    "\n"
   ]
  },
  {
   "cell_type": "code",
   "execution_count": 72,
   "metadata": {},
   "outputs": [
    {
     "data": {
      "text/plain": [
       "<matplotlib.axes._subplots.AxesSubplot at 0x7faa29093d90>"
      ]
     },
     "execution_count": 72,
     "metadata": {},
     "output_type": "execute_result"
    },
    {
     "data": {
      "image/png": "[encoded data removed]",
      "text/plain": [
       "<Figure size 864x864 with 1 Axes>"
      ]
     },
     "metadata": {
      "needs_background": "light"
     },
     "output_type": "display_data"
    }
   ],
   "source": [
    "plt.figure(figsize=(12,12))\n",
    "sns.distplot(np.log(data_o['price']), bins=100, color='g', hist_kws={'alpha':0.4})"
   ]
  },
  {
   "cell_type": "code",
   "execution_count": 76,
   "metadata": {},
   "outputs": [],
   "source": [
    "df = data_o\n",
    "\n",
    "Y = df['price']\n",
    "df = df.loc[:, df.columns.difference(['price'])]"
   ]
  },
  {
   "cell_type": "code",
   "execution_count": 78,
   "metadata": {},
   "outputs": [],
   "source": [
    "Y_cut = pd.cut(Y, Y.quantile([0, 0.33, 0.66, 1]), include_lowest=True)"
   ]
  },
  {
   "cell_type": "code",
   "execution_count": 82,
   "metadata": {},
   "outputs": [
    {
     "name": "stdout",
     "output_type": "stream",
     "text": [
      "0.33    370000.0\n",
      "0.66    568780.0\n",
      "Name: price, dtype: float64\n"
     ]
    }
   ],
   "source": [
    "len(set(Y_cut))\n",
    "print(Y.quantile([.33,.66]))\n"
   ]
  },
  {
   "cell_type": "markdown",
   "metadata": {},
   "source": [
    "SEPARATION "
   ]
  },
  {
   "cell_type": "code",
   "execution_count": 85,
   "metadata": {},
   "outputs": [
    {
     "name": "stdout",
     "output_type": "stream",
     "text": [
      "Size train 3162\n",
      "Size test 1355\n"
     ]
    }
   ],
   "source": [
    "ix_train = df.sample(frac=0.7, replace=False, random_state=0).index.values\n",
    "ix_test = df.index.difference(ix_train).values\n",
    "\n",
    "\n",
    "print(\"Size train {}\".format(len(ix_train)))\n",
    "print(\"Size test {}\".format(len(ix_test)))"
   ]
  },
  {
   "cell_type": "code",
   "execution_count": 86,
   "metadata": {},
   "outputs": [
    {
     "data": {
      "text/plain": [
       "array([4535, 1589, 1761, ..., 2129, 3705, 1831])"
      ]
     },
     "execution_count": 86,
     "metadata": {},
     "output_type": "execute_result"
    }
   ],
   "source": [
    "ix_train"
   ]
  },
  {
   "cell_type": "code",
   "execution_count": 92,
   "metadata": {},
   "outputs": [],
   "source": [
    "df = df[df.columns.difference(['country', 'street'])]"
   ]
  },
  {
   "cell_type": "code",
   "execution_count": null,
   "metadata": {},
   "outputs": [],
   "source": []
  },
  {
   "cell_type": "code",
   "execution_count": 100,
   "metadata": {},
   "outputs": [
    {
     "data": {
      "text/plain": [
       "77"
      ]
     },
     "execution_count": 100,
     "metadata": {},
     "output_type": "execute_result"
    }
   ],
   "source": [
    "len(list(set(df['statezip'])))"
   ]
  },
  {
   "cell_type": "code",
   "execution_count": 93,
   "metadata": {},
   "outputs": [],
   "source": [
    "from sklearn.preprocessing import OneHotEncoder"
   ]
  },
  {
   "cell_type": "code",
   "execution_count": 105,
   "metadata": {},
   "outputs": [],
   "source": [
    "dummy_statezip = pd.get_dummies(df['statezip'], prefix=\"statezip\")"
   ]
  },
  {
   "cell_type": "code",
   "execution_count": 106,
   "metadata": {},
   "outputs": [],
   "source": [
    "df = pd.concat([df, dummy_statezip], axis=1)"
   ]
  },
  {
   "cell_type": "code",
   "execution_count": 110,
   "metadata": {},
   "outputs": [],
   "source": [
    "del df['statezip']"
   ]
  },
  {
   "cell_type": "code",
   "execution_count": 114,
   "metadata": {
    "scrolled": true
   },
   "outputs": [
    {
     "name": "stdout",
     "output_type": "stream",
     "text": [
      "<class 'pandas.core.frame.DataFrame'>\n",
      "Int64Index: 4517 entries, 0 to 4599\n",
      "Data columns (total 91 columns):\n",
      " #   Column             Non-Null Count  Dtype         \n",
      "---  ------             --------------  -----         \n",
      " 0   bathrooms          4517 non-null   float64       \n",
      " 1   bedrooms           4517 non-null   float64       \n",
      " 2   city               4517 non-null   object        \n",
      " 3   condition          4517 non-null   int64         \n",
      " 4   date               4517 non-null   datetime64[ns]\n",
      " 5   floors             4517 non-null   float64       \n",
      " 6   sqft_above         4517 non-null   int64         \n",
      " 7   sqft_basement      4517 non-null   int64         \n",
      " 8   sqft_living        4517 non-null   int64         \n",
      " 9   sqft_lot           4517 non-null   int64         \n",
      " 10  view               4517 non-null   int64         \n",
      " 11  waterfront         4517 non-null   int64         \n",
      " 12  yr_built           4517 non-null   int64         \n",
      " 13  yr_renovated       4517 non-null   int64         \n",
      " 14  statezip_WA 98001  4517 non-null   uint8         \n",
      " 15  statezip_WA 98002  4517 non-null   uint8         \n",
      " 16  statezip_WA 98003  4517 non-null   uint8         \n",
      " 17  statezip_WA 98004  4517 non-null   uint8         \n",
      " 18  statezip_WA 98005  4517 non-null   uint8         \n",
      " 19  statezip_WA 98006  4517 non-null   uint8         \n",
      " 20  statezip_WA 98007  4517 non-null   uint8         \n",
      " 21  statezip_WA 98008  4517 non-null   uint8         \n",
      " 22  statezip_WA 98010  4517 non-null   uint8         \n",
      " 23  statezip_WA 98011  4517 non-null   uint8         \n",
      " 24  statezip_WA 98014  4517 non-null   uint8         \n",
      " 25  statezip_WA 98019  4517 non-null   uint8         \n",
      " 26  statezip_WA 98022  4517 non-null   uint8         \n",
      " 27  statezip_WA 98023  4517 non-null   uint8         \n",
      " 28  statezip_WA 98024  4517 non-null   uint8         \n",
      " 29  statezip_WA 98027  4517 non-null   uint8         \n",
      " 30  statezip_WA 98028  4517 non-null   uint8         \n",
      " 31  statezip_WA 98029  4517 non-null   uint8         \n",
      " 32  statezip_WA 98030  4517 non-null   uint8         \n",
      " 33  statezip_WA 98031  4517 non-null   uint8         \n",
      " 34  statezip_WA 98032  4517 non-null   uint8         \n",
      " 35  statezip_WA 98033  4517 non-null   uint8         \n",
      " 36  statezip_WA 98034  4517 non-null   uint8         \n",
      " 37  statezip_WA 98038  4517 non-null   uint8         \n",
      " 38  statezip_WA 98039  4517 non-null   uint8         \n",
      " 39  statezip_WA 98040  4517 non-null   uint8         \n",
      " 40  statezip_WA 98042  4517 non-null   uint8         \n",
      " 41  statezip_WA 98045  4517 non-null   uint8         \n",
      " 42  statezip_WA 98047  4517 non-null   uint8         \n",
      " 43  statezip_WA 98050  4517 non-null   uint8         \n",
      " 44  statezip_WA 98051  4517 non-null   uint8         \n",
      " 45  statezip_WA 98052  4517 non-null   uint8         \n",
      " 46  statezip_WA 98053  4517 non-null   uint8         \n",
      " 47  statezip_WA 98055  4517 non-null   uint8         \n",
      " 48  statezip_WA 98056  4517 non-null   uint8         \n",
      " 49  statezip_WA 98057  4517 non-null   uint8         \n",
      " 50  statezip_WA 98058  4517 non-null   uint8         \n",
      " 51  statezip_WA 98059  4517 non-null   uint8         \n",
      " 52  statezip_WA 98065  4517 non-null   uint8         \n",
      " 53  statezip_WA 98068  4517 non-null   uint8         \n",
      " 54  statezip_WA 98070  4517 non-null   uint8         \n",
      " 55  statezip_WA 98072  4517 non-null   uint8         \n",
      " 56  statezip_WA 98074  4517 non-null   uint8         \n",
      " 57  statezip_WA 98075  4517 non-null   uint8         \n",
      " 58  statezip_WA 98077  4517 non-null   uint8         \n",
      " 59  statezip_WA 98092  4517 non-null   uint8         \n",
      " 60  statezip_WA 98102  4517 non-null   uint8         \n",
      " 61  statezip_WA 98103  4517 non-null   uint8         \n",
      " 62  statezip_WA 98105  4517 non-null   uint8         \n",
      " 63  statezip_WA 98106  4517 non-null   uint8         \n",
      " 64  statezip_WA 98107  4517 non-null   uint8         \n",
      " 65  statezip_WA 98108  4517 non-null   uint8         \n",
      " 66  statezip_WA 98109  4517 non-null   uint8         \n",
      " 67  statezip_WA 98112  4517 non-null   uint8         \n",
      " 68  statezip_WA 98115  4517 non-null   uint8         \n",
      " 69  statezip_WA 98116  4517 non-null   uint8         \n",
      " 70  statezip_WA 98117  4517 non-null   uint8         \n",
      " 71  statezip_WA 98118  4517 non-null   uint8         \n",
      " 72  statezip_WA 98119  4517 non-null   uint8         \n",
      " 73  statezip_WA 98122  4517 non-null   uint8         \n",
      " 74  statezip_WA 98125  4517 non-null   uint8         \n",
      " 75  statezip_WA 98126  4517 non-null   uint8         \n",
      " 76  statezip_WA 98133  4517 non-null   uint8         \n",
      " 77  statezip_WA 98136  4517 non-null   uint8         \n",
      " 78  statezip_WA 98144  4517 non-null   uint8         \n",
      " 79  statezip_WA 98146  4517 non-null   uint8         \n",
      " 80  statezip_WA 98148  4517 non-null   uint8         \n",
      " 81  statezip_WA 98155  4517 non-null   uint8         \n",
      " 82  statezip_WA 98166  4517 non-null   uint8         \n",
      " 83  statezip_WA 98168  4517 non-null   uint8         \n",
      " 84  statezip_WA 98177  4517 non-null   uint8         \n",
      " 85  statezip_WA 98178  4517 non-null   uint8         \n",
      " 86  statezip_WA 98188  4517 non-null   uint8         \n",
      " 87  statezip_WA 98198  4517 non-null   uint8         \n",
      " 88  statezip_WA 98199  4517 non-null   uint8         \n",
      " 89  statezip_WA 98288  4517 non-null   uint8         \n",
      " 90  statezip_WA 98354  4517 non-null   uint8         \n",
      "dtypes: datetime64[ns](1), float64(3), int64(9), object(1), uint8(77)\n",
      "memory usage: 1.0+ MB\n"
     ]
    }
   ],
   "source": [
    "df.info()"
   ]
  },
  {
   "cell_type": "code",
   "execution_count": 116,
   "metadata": {},
   "outputs": [],
   "source": [
    "dummy_city = pd.get_dummies(df['city'], prefix='city')"
   ]
  },
  {
   "cell_type": "code",
   "execution_count": 121,
   "metadata": {},
   "outputs": [],
   "source": [
    "df = pd.concat([df, dummy_city], axis=1)"
   ]
  },
  {
   "cell_type": "code",
   "execution_count": 122,
   "metadata": {},
   "outputs": [],
   "source": [
    "del df['city']"
   ]
  },
  {
   "cell_type": "code",
   "execution_count": 125,
   "metadata": {},
   "outputs": [
    {
     "name": "stdout",
     "output_type": "stream",
     "text": [
      "<class 'pandas.core.frame.DataFrame'>\n",
      "Int64Index: 4517 entries, 0 to 4599\n",
      "Columns: 134 entries, bathrooms to city_Yarrow Point\n",
      "dtypes: datetime64[ns](1), float64(3), int64(9), uint8(121)\n",
      "memory usage: 1.2 MB\n"
     ]
    }
   ],
   "source": [
    "df.info()"
   ]
  },
  {
   "cell_type": "code",
   "execution_count": 126,
   "metadata": {},
   "outputs": [],
   "source": [
    "from sklearn import preprocessing\n",
    "\n",
    "# Initialisation du standard scaler :\n",
    "std_scaler = preprocessing.StandardScaler()\n",
    "# Récupérer la liste des colonnes numériques :\n",
    "num_cols = df.select_dtypes(exclude=[\"object\"]).columns"
   ]
  },
  {
   "cell_type": "code",
   "execution_count": 127,
   "metadata": {},
   "outputs": [
    {
     "data": {
      "text/plain": [
       "Index(['bathrooms', 'bedrooms', 'condition', 'date', 'floors', 'sqft_above',\n",
       "       'sqft_basement', 'sqft_living', 'sqft_lot', 'view',\n",
       "       ...\n",
       "       'city_SeaTac', 'city_Seattle', 'city_Shoreline', 'city_Skykomish',\n",
       "       'city_Snoqualmie', 'city_Snoqualmie Pass', 'city_Tukwila',\n",
       "       'city_Vashon', 'city_Woodinville', 'city_Yarrow Point'],\n",
       "      dtype='object', length=134)"
      ]
     },
     "execution_count": 127,
     "metadata": {},
     "output_type": "execute_result"
    }
   ],
   "source": [
    "num_cols"
   ]
  },
  {
   "cell_type": "code",
   "execution_count": 144,
   "metadata": {},
   "outputs": [
    {
     "data": {
      "text/plain": [
       "StandardScaler(copy=True, with_mean=True, with_std=True)"
      ]
     },
     "execution_count": 144,
     "metadata": {},
     "output_type": "execute_result"
    }
   ],
   "source": [
    "df['date'] = pd.to_numeric(df['date'])\n",
    "\n",
    "\n",
    "from sklearn import preprocessing\n",
    "\n",
    "# Initialisation du standard scaler :\n",
    "std_scaler = preprocessing.StandardScaler()\n",
    "# Récupérer la liste des colonnes numériques :\n",
    "num_cols = df.select_dtypes(exclude=[\"object\"]).columns\n",
    "\n",
    "# Pour ne pas \"tricher\" en appliquant la standardisation à partir des données du test set,\n",
    "# on paramètre le scaler avec les données du jeu d'entrainement exclusivement :\n",
    "std_scaler.fit(df.loc[:,num_cols].loc[ix_train])\n"
   ]
  },
  {
   "cell_type": "code",
   "execution_count": 145,
   "metadata": {},
   "outputs": [],
   "source": [
    "# On applique ensuite sur tout le jeu de données :\n",
    "df.loc[:,num_cols] = std_scaler.transform(df.loc[:,num_cols])"
   ]
  },
  {
   "cell_type": "markdown",
   "metadata": {},
   "source": [
    "Dans get dummies, mettre \"drop_first\" = TRUE pour drop la référence"
   ]
  },
  {
   "cell_type": "markdown",
   "metadata": {},
   "source": [
    "CLUSTERING NON SUPERVISE"
   ]
  },
  {
   "cell_type": "code",
   "execution_count": 148,
   "metadata": {},
   "outputs": [
    {
     "data": {
      "text/plain": [
       "False"
      ]
     },
     "execution_count": 148,
     "metadata": {},
     "output_type": "execute_result"
    }
   ],
   "source": [
    "'city' in df.columns"
   ]
  },
  {
   "cell_type": "code",
   "execution_count": 150,
   "metadata": {},
   "outputs": [
    {
     "name": "stdout",
     "output_type": "stream",
     "text": [
      "On affiche les boxplot de prix par clusters :\n"
     ]
    },
    {
     "data": {
      "image/png": "[encoded data removed]",
      "text/plain": [
       "<Figure size 432x288 with 1 Axes>"
      ]
     },
     "metadata": {
      "needs_background": "light"
     },
     "output_type": "display_data"
    }
   ],
   "source": [
    "from sklearn.cluster import KMeans\n",
    "# Initialisation des paramètres de l'algorithme :\n",
    "Kmeans_model = KMeans(n_clusters=6, init = 'k-means++', random_state=123)\n",
    "\n",
    "# On applique le clustering sur le jeu d'entraînement (train) :\n",
    "# On enregistre dans la variable clusters le numéro du cluster auquel chaque maison est identifiée\n",
    "clusters = Kmeans_model.fit_predict(df.loc[ix_train])\n",
    "\n",
    "# On enregistre les clusters et les colonnes à comparer dans un dataframe pandas :\n",
    "train_clusters = pd.DataFrame([*zip(clusters,Y.loc[ix_train],Y_cut.loc[ix_train])], \n",
    "                              columns=['cluster','price','price_cut'])\n",
    "\n",
    "train_clusters.boxplot(by='cluster')\n",
    "print('On affiche les boxplot de prix par clusters :')"
   ]
  },
  {
   "cell_type": "code",
   "execution_count": 151,
   "metadata": {},
   "outputs": [
    {
     "name": "stdout",
     "output_type": "stream",
     "text": [
      "On affiche la table des profils ligne par tranche de prix, pour chaque cluster :\n"
     ]
    },
    {
     "data": {
      "text/html": [
       "<style  type=\"text/css\" >\n",
       "    #T_c216acd8_1473_11eb_a544_ab897d01b8edrow0_col0 {\n",
       "            background-color:  #fff5f0;\n",
       "            color:  #000000;\n",
       "        }    #T_c216acd8_1473_11eb_a544_ab897d01b8edrow0_col1 {\n",
       "            background-color:  #fee5d8;\n",
       "            color:  #000000;\n",
       "        }    #T_c216acd8_1473_11eb_a544_ab897d01b8edrow0_col2 {\n",
       "            background-color:  #fb6b4b;\n",
       "            color:  #000000;\n",
       "        }    #T_c216acd8_1473_11eb_a544_ab897d01b8edrow1_col0 {\n",
       "            background-color:  #fff5f0;\n",
       "            color:  #000000;\n",
       "        }    #T_c216acd8_1473_11eb_a544_ab897d01b8edrow1_col1 {\n",
       "            background-color:  #fb6d4d;\n",
       "            color:  #000000;\n",
       "        }    #T_c216acd8_1473_11eb_a544_ab897d01b8edrow1_col2 {\n",
       "            background-color:  #fb694a;\n",
       "            color:  #000000;\n",
       "        }    #T_c216acd8_1473_11eb_a544_ab897d01b8edrow2_col0 {\n",
       "            background-color:  #fff5f0;\n",
       "            color:  #000000;\n",
       "        }    #T_c216acd8_1473_11eb_a544_ab897d01b8edrow2_col1 {\n",
       "            background-color:  #fc8969;\n",
       "            color:  #000000;\n",
       "        }    #T_c216acd8_1473_11eb_a544_ab897d01b8edrow2_col2 {\n",
       "            background-color:  #fb6b4b;\n",
       "            color:  #000000;\n",
       "        }    #T_c216acd8_1473_11eb_a544_ab897d01b8edrow3_col0 {\n",
       "            background-color:  #fb694a;\n",
       "            color:  #000000;\n",
       "        }    #T_c216acd8_1473_11eb_a544_ab897d01b8edrow3_col1 {\n",
       "            background-color:  #fed8c7;\n",
       "            color:  #000000;\n",
       "        }    #T_c216acd8_1473_11eb_a544_ab897d01b8edrow3_col2 {\n",
       "            background-color:  #fff5f0;\n",
       "            color:  #000000;\n",
       "        }    #T_c216acd8_1473_11eb_a544_ab897d01b8edrow4_col0 {\n",
       "            background-color:  #fb694a;\n",
       "            color:  #000000;\n",
       "        }    #T_c216acd8_1473_11eb_a544_ab897d01b8edrow4_col1 {\n",
       "            background-color:  #fedaca;\n",
       "            color:  #000000;\n",
       "        }    #T_c216acd8_1473_11eb_a544_ab897d01b8edrow4_col2 {\n",
       "            background-color:  #fff5f0;\n",
       "            color:  #000000;\n",
       "        }    #T_c216acd8_1473_11eb_a544_ab897d01b8edrow5_col0 {\n",
       "            background-color:  #fff5f0;\n",
       "            color:  #000000;\n",
       "        }    #T_c216acd8_1473_11eb_a544_ab897d01b8edrow5_col1 {\n",
       "            background-color:  #fb694a;\n",
       "            color:  #000000;\n",
       "        }    #T_c216acd8_1473_11eb_a544_ab897d01b8edrow5_col2 {\n",
       "            background-color:  #fb7757;\n",
       "            color:  #000000;\n",
       "        }</style><table id=\"T_c216acd8_1473_11eb_a544_ab897d01b8ed\" ><thead>    <tr>        <th class=\"index_name level0\" >price_cut</th>        <th class=\"col_heading level0 col0\" >(7799.999, 370000.0]</th>        <th class=\"col_heading level0 col1\" >(370000.0, 568780.0]</th>        <th class=\"col_heading level0 col2\" >(568780.0, 2238888.0]</th>    </tr>    <tr>        <th class=\"index_name level0\" >cluster</th>        <th class=\"blank\" ></th>        <th class=\"blank\" ></th>        <th class=\"blank\" ></th>    </tr></thead><tbody>\n",
       "                <tr>\n",
       "                        <th id=\"T_c216acd8_1473_11eb_a544_ab897d01b8edlevel0_row0\" class=\"row_heading level0 row0\" >0</th>\n",
       "                        <td id=\"T_c216acd8_1473_11eb_a544_ab897d01b8edrow0_col0\" class=\"data row0 col0\" >0.236971</td>\n",
       "                        <td id=\"T_c216acd8_1473_11eb_a544_ab897d01b8edrow0_col1\" class=\"data row0 col1\" >0.285152</td>\n",
       "                        <td id=\"T_c216acd8_1473_11eb_a544_ab897d01b8edrow0_col2\" class=\"data row0 col2\" >0.477876</td>\n",
       "            </tr>\n",
       "            <tr>\n",
       "                        <th id=\"T_c216acd8_1473_11eb_a544_ab897d01b8edlevel0_row1\" class=\"row_heading level0 row1\" >1</th>\n",
       "                        <td id=\"T_c216acd8_1473_11eb_a544_ab897d01b8edrow1_col0\" class=\"data row1 col0\" >0.252101</td>\n",
       "                        <td id=\"T_c216acd8_1473_11eb_a544_ab897d01b8edrow1_col1\" class=\"data row1 col1\" >0.372549</td>\n",
       "                        <td id=\"T_c216acd8_1473_11eb_a544_ab897d01b8edrow1_col2\" class=\"data row1 col2\" >0.375350</td>\n",
       "            </tr>\n",
       "            <tr>\n",
       "                        <th id=\"T_c216acd8_1473_11eb_a544_ab897d01b8edlevel0_row2\" class=\"row_heading level0 row2\" >2</th>\n",
       "                        <td id=\"T_c216acd8_1473_11eb_a544_ab897d01b8edrow2_col0\" class=\"data row2 col0\" >0.079365</td>\n",
       "                        <td id=\"T_c216acd8_1473_11eb_a544_ab897d01b8edrow2_col1\" class=\"data row2 col1\" >0.420635</td>\n",
       "                        <td id=\"T_c216acd8_1473_11eb_a544_ab897d01b8edrow2_col2\" class=\"data row2 col2\" >0.500000</td>\n",
       "            </tr>\n",
       "            <tr>\n",
       "                        <th id=\"T_c216acd8_1473_11eb_a544_ab897d01b8edlevel0_row3\" class=\"row_heading level0 row3\" >3</th>\n",
       "                        <td id=\"T_c216acd8_1473_11eb_a544_ab897d01b8edrow3_col0\" class=\"data row3 col0\" >0.623377</td>\n",
       "                        <td id=\"T_c216acd8_1473_11eb_a544_ab897d01b8edrow3_col1\" class=\"data row3 col1\" >0.268831</td>\n",
       "                        <td id=\"T_c216acd8_1473_11eb_a544_ab897d01b8edrow3_col2\" class=\"data row3 col2\" >0.107792</td>\n",
       "            </tr>\n",
       "            <tr>\n",
       "                        <th id=\"T_c216acd8_1473_11eb_a544_ab897d01b8edlevel0_row4\" class=\"row_heading level0 row4\" >4</th>\n",
       "                        <td id=\"T_c216acd8_1473_11eb_a544_ab897d01b8edrow4_col0\" class=\"data row4 col0\" >0.693878</td>\n",
       "                        <td id=\"T_c216acd8_1473_11eb_a544_ab897d01b8edrow4_col1\" class=\"data row4 col1\" >0.244898</td>\n",
       "                        <td id=\"T_c216acd8_1473_11eb_a544_ab897d01b8edrow4_col2\" class=\"data row4 col2\" >0.061224</td>\n",
       "            </tr>\n",
       "            <tr>\n",
       "                        <th id=\"T_c216acd8_1473_11eb_a544_ab897d01b8edlevel0_row5\" class=\"row_heading level0 row5\" >5</th>\n",
       "                        <td id=\"T_c216acd8_1473_11eb_a544_ab897d01b8edrow5_col0\" class=\"data row5 col0\" >0.100775</td>\n",
       "                        <td id=\"T_c216acd8_1473_11eb_a544_ab897d01b8edrow5_col1\" class=\"data row5 col1\" >0.465116</td>\n",
       "                        <td id=\"T_c216acd8_1473_11eb_a544_ab897d01b8edrow5_col2\" class=\"data row5 col2\" >0.434109</td>\n",
       "            </tr>\n",
       "    </tbody></table>"
      ],
      "text/plain": [
       "<pandas.io.formats.style.Styler at 0x7faa293c5fd0>"
      ]
     },
     "execution_count": 151,
     "metadata": {},
     "output_type": "execute_result"
    }
   ],
   "source": [
    "print(\"On affiche la table des profils ligne par tranche de prix, pour chaque cluster :\")\n",
    "cross_table = pd.crosstab(train_clusters.cluster, train_clusters.price_cut, normalize='index')\n",
    "cross_table.style.background_gradient(cmap='Reds', axis=1, low=0, high=1)"
   ]
  },
  {
   "cell_type": "markdown",
   "metadata": {},
   "source": [
    "On en conclue que le clustering parvient à former des groupes de maisons avec des niveaux de prix plus ou moins homogènes :\n",
    "\n",
    "Les clusters 0 et 2 sont principalement composés de maisons peu chères.\n",
    "Les clusters 1, 3 et 4 contiennent des maisons au prix élevé.\n",
    "Le cluster 5 est a peu près équitablement réparti entre les trois classes de prix."
   ]
  }
 ],
 "metadata": {
  "kernelspec": {
   "display_name": "Python 3.7.6 64-bit ('anaconda3': virtualenv)",
   "language": "python",
   "name": "python37664bitanaconda3virtualenv67906855fd5648ceb8e76d98648ab823"
  },
  "language_info": {
   "codemirror_mode": {
    "name": "ipython",
    "version": 3
   },
   "file_extension": ".py",
   "mimetype": "text/x-python",
   "name": "python",
   "nbconvert_exporter": "python",
   "pygments_lexer": "ipython3",
   "version": "3.7.6"
  }
 },
 "nbformat": 4,
 "nbformat_minor": 4
}
